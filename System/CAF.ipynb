{
 "cells": [
  {
   "cell_type": "markdown",
   "metadata": {},
   "source": [
    "## Download all the necessary libraries"
   ]
  },
  {
   "cell_type": "code",
   "execution_count": null,
   "metadata": {
    "scrolled": true
   },
   "outputs": [],
   "source": [
    "import pandas as pd\n",
    "import numpy as np\n",
    "from docxtpl import DocxTemplate\n",
    "import beepy as beep\n",
    "import os\n",
    "import re\n",
    "import easygui\n",
    "import shutil\n",
    "import time\n",
    "import warnings\n",
    "os.environ['PYGAME_HIDE_SUPPORT_PROMPT'] = \"hide\"\n",
    "from pygame import mixer"
   ]
  },
  {
   "cell_type": "code",
   "execution_count": null,
   "metadata": {},
   "outputs": [],
   "source": [
    "# from IPython.core.display import display, HTML\n",
    "# display(HTML(\"<style>.container { width:100% !important; }</style>\"))\n",
    "import warnings\n",
    "warnings.simplefilter(action='ignore', category=FutureWarning)\n",
    "pd.options.mode.chained_assignment = None  # default='warn'"
   ]
  },
  {
   "cell_type": "code",
   "execution_count": null,
   "metadata": {},
   "outputs": [],
   "source": [
    "print('Contract is being created...')"
   ]
  },
  {
   "cell_type": "markdown",
   "metadata": {},
   "source": [
    "## Create all the necessary functions"
   ]
  },
  {
   "cell_type": "code",
   "execution_count": null,
   "metadata": {},
   "outputs": [],
   "source": [
    "#Функция для создания числа прописью\n",
    "import decimal\n",
    "units = (\n",
    "    u'ноль',\n",
    "    (u'один', u'одна'),\n",
    "    (u'два', u'две'),\n",
    "    u'три', u'четыре', u'пять',\n",
    "    u'шесть', u'семь', u'восемь', u'девять'\n",
    ")\n",
    "teens = (\n",
    "    u'десять', u'одиннадцать',\n",
    "    u'двенадцать', u'тринадцать',\n",
    "    u'четырнадцать', u'пятнадцать',\n",
    "    u'шестнадцать', u'семнадцать',\n",
    "    u'восемнадцать', u'девятнадцать'\n",
    ")\n",
    "tens = (\n",
    "    teens,\n",
    "    u'двадцать', u'тридцать',\n",
    "    u'сорок', u'пятьдесят',\n",
    "    u'шестьдесят', u'семьдесят',\n",
    "    u'восемьдесят', u'девяносто'\n",
    ")\n",
    "hundreds = (\n",
    "    u'сто', u'двести',\n",
    "    u'триста', u'четыреста',\n",
    "    u'пятьсот', u'шестьсот',\n",
    "    u'семьсот', u'восемьсот',\n",
    "    u'девятьсот'\n",
    ")\n",
    "orders = (# plural forms and gender\n",
    "    #((u'', u'', u''), 'm'), # ((u'рубль', u'рубля', u'рублей'), 'm'), # ((u'копейка', u'копейки', u'копеек'), 'f')\n",
    "    ((u'тысяча', u'тысячи', u'тысяч'), 'f'),\n",
    "    ((u'миллион', u'миллиона', u'миллионов'), 'm'),\n",
    "    ((u'миллиард', u'миллиарда', u'миллиардов'), 'm'),\n",
    ")\n",
    "minus = u'минус'\n",
    "\n",
    "def thousand(rest, sex):\n",
    "    \"\"\"Converts numbers from 19 to 999\"\"\"\n",
    "    prev = 0\n",
    "    plural = 2\n",
    "    name = []\n",
    "    use_teens = rest % 100 >= 10 and rest % 100 <= 19\n",
    "    if not use_teens:\n",
    "        data = ((units, 10), (tens, 100), (hundreds, 1000))\n",
    "    else:\n",
    "        data = ((teens, 10), (hundreds, 1000))\n",
    "    for names, x in data:\n",
    "        cur = int(((rest - prev) % x) * 10 / x)\n",
    "        prev = rest % x\n",
    "        if x == 10 and use_teens:\n",
    "            plural = 2\n",
    "            name.append(teens[cur])\n",
    "        elif cur == 0:\n",
    "            continue\n",
    "        elif x == 10:\n",
    "            name_ = names[cur]\n",
    "            if isinstance(name_, tuple):\n",
    "                name_ = name_[0 if sex == 'm' else 1]\n",
    "            name.append(name_)\n",
    "            if cur >= 2 and cur <= 4:\n",
    "                plural = 1\n",
    "            elif cur == 1:\n",
    "                plural = 0\n",
    "            else:\n",
    "                plural = 2\n",
    "        else:\n",
    "            name.append(names[cur-1])\n",
    "    return plural, name\n",
    "\n",
    "def num2text(num, main_units=((u'', u'', u''), 'm')):\n",
    "    \"\"\"\n",
    "    http://ru.wikipedia.org/wiki/Gettext#.D0.9C.D0.BD.D0.BE.D0.B6.D0.B5.D1.81.\\\n",
    "    D1.82.D0.B2.D0.B5.D0.BD.D0.BD.D1.8B.D0.B5_.D1.87.D0.B8.D1.81.D0.BB.D0.B0_2\n",
    "    \"\"\"\n",
    "    _orders = (main_units,) + orders\n",
    "    if num == 0:\n",
    "        return ' '.join((units[0], _orders[0][0][2])).strip() # ноль\n",
    "    rest = abs(num)\n",
    "    ord = 0\n",
    "    name = []\n",
    "    while rest > 0:\n",
    "        plural, nme = thousand(rest % 1000, _orders[ord][1])\n",
    "        if nme or ord == 0:\n",
    "            name.append(_orders[ord][0][plural])\n",
    "        name += nme\n",
    "        rest = int(rest / 1000)\n",
    "        ord += 1\n",
    "    if num < 0:\n",
    "        name.append(minus)\n",
    "    name.reverse()\n",
    "    return ' '.join(name).strip()"
   ]
  },
  {
   "cell_type": "code",
   "execution_count": null,
   "metadata": {},
   "outputs": [],
   "source": [
    "# Create function for deleting paragraphs\n",
    "def delete_paragraph(paragraph):\n",
    "    p = paragraph._element\n",
    "    p.getparent().remove(p)\n",
    "    paragraph._p = paragraph._element = None"
   ]
  },
  {
   "cell_type": "code",
   "execution_count": null,
   "metadata": {},
   "outputs": [],
   "source": [
    "# Create function to delete rows from tables:\n",
    "def remove_row(table, row):\n",
    "    tbl = table._tbl\n",
    "    tr = row._tr\n",
    "    tbl.remove(tr)"
   ]
  },
  {
   "cell_type": "code",
   "execution_count": null,
   "metadata": {},
   "outputs": [],
   "source": [
    "# Create function for sounds making\n",
    "def beep(sound):\n",
    "    mixer.init() \n",
    "    sound=mixer.Sound(os.getcwd() + '/System/Sounds/{}.wav'.format(sound))\n",
    "    sound.play()"
   ]
  },
  {
   "cell_type": "markdown",
   "metadata": {},
   "source": [
    "## Download and preprocess source files"
   ]
  },
  {
   "cell_type": "code",
   "execution_count": null,
   "metadata": {},
   "outputs": [],
   "source": [
    "try:\n",
    "    # Load the data for contract filling\n",
    "    data = pd.read_excel(os.getcwd() + '/Data.xlsx', usecols = [0,1])\n",
    "    # Correct first payment's sum\n",
    "    if np.isnan(float(data['Значение'][6])) == True:\n",
    "        data['Значение'][6] = 0\n",
    "        \n",
    "except BaseException  as e:\n",
    "    beep(4)\n",
    "    easygui.msgbox('Failed to upload file \"Data\": \\n' + str(e), title='Error!')\n",
    "    logger.error(str(e))\n",
    "    sys.exit()"
   ]
  },
  {
   "cell_type": "code",
   "execution_count": null,
   "metadata": {},
   "outputs": [],
   "source": [
    "try:\n",
    "    # Download Contract template\n",
    "    c = DocxTemplate(os.getcwd() + '/System/Template/Contract.docx')\n",
    "\n",
    "except BaseException  as e:\n",
    "    beep(4)\n",
    "    easygui.msgbox('Failed to upload Contract template: \\n' + str(e), title='Error!')\n",
    "    logger.error(str(e))\n",
    "    sys.exit()"
   ]
  },
  {
   "cell_type": "markdown",
   "metadata": {},
   "source": [
    "## Create an agreement"
   ]
  },
  {
   "cell_type": "code",
   "execution_count": null,
   "metadata": {},
   "outputs": [],
   "source": [
    "try:\n",
    "    # Put the data into the template\n",
    "    context = {'contractor' : data['Значение'][0],\n",
    "               'contract_number' : data['Значение'][1],\n",
    "               'date' : data['Значение'][2],\n",
    "               'start_date' : data['Значение'][3],\n",
    "               'end_date' : data['Значение'][4],\n",
    "               'contract_sum' : data['Значение'][5],\n",
    "               'contract_sum_words' : num2text(float(data['Значение'][5])),\n",
    "               'first_sum' : data['Значение'][6],\n",
    "               'first_sum_words' : num2text(int(data['Значение'][6])),\n",
    "               'second_sum' : str(int(data['Значение'][5]) - int(data['Значение'][6])),\n",
    "               'second_sum_words' : num2text(float(data['Значение'][5]) - float(data['Значение'][6])),           \n",
    "               'address' : data['Значение'][7],\n",
    "               'client' : data['Значение'][10],\n",
    "               'pass' : data['Значение'][11],\n",
    "               'authority' : data['Значение'][12],\n",
    "               'pass_date' : data['Значение'][13],\n",
    "               'code' : data['Значение'][14],\n",
    "               'registration_address' : data['Значение'][15]}\n",
    "    c.render(context)\n",
    "\n",
    "    # If executor is IP\n",
    "    if data['Значение'][0] == 'ИП Рабинович':\n",
    "        # Find the paragraph about RAV\n",
    "        indx=0\n",
    "        for p in c.paragraphs:\n",
    "            if p.text.startswith('Рабинович Ариэль Вальдемарович, в лице'):\n",
    "                aaindx = indx\n",
    "            indx+=1\n",
    "        # And delete it\n",
    "        delete_paragraph(c.paragraphs[aaindx])\n",
    "        # Remove corresponding row in contractor's data table\n",
    "        remove_row(c.tables[0], c.tables[0].rows[2])\n",
    "\n",
    "    # If executor is RAV\n",
    "    if data['Значение'][0] == 'Рабинович Ариэль Вальдемарович':\n",
    "        # Find the paragraph about IP\n",
    "        indx=0\n",
    "        for p in c.paragraphs:\n",
    "            if p.text.startswith('Индивидуальный предприниматель Рабинович,'):\n",
    "                ipindx = indx\n",
    "            indx+=1\n",
    "        # And delete it\n",
    "        delete_paragraph(c.paragraphs[ipindx])\n",
    "        # Remove corresponding row in contractor's data table\n",
    "        remove_row(c.tables[0], c.tables[0].rows[3])\n",
    "\n",
    "    # If there is no advance payment\n",
    "    if float(data['Значение'][6]) == 0:\n",
    "        # Find the paragraph about the advance payment\n",
    "        indx=0\n",
    "        for p in c.paragraphs:\n",
    "            if p.text.startswith('Заказчик оплачивает аванс в размере '):\n",
    "                avindx = indx\n",
    "            indx+=1\n",
    "        # And delete it\n",
    "        delete_paragraph(c.paragraphs[avindx])\n",
    "    \n",
    "except BaseException  as e:\n",
    "    beep(4)\n",
    "    easygui.msgbox('Failed to create file \"Contract\": \\n' + str(e), title='Error!')\n",
    "    logger.error(str(e))\n",
    "    sys.exit()"
   ]
  },
  {
   "cell_type": "markdown",
   "metadata": {},
   "source": [
    "## Create an agreement data file"
   ]
  },
  {
   "cell_type": "code",
   "execution_count": null,
   "metadata": {},
   "outputs": [],
   "source": [
    "try:\n",
    "    # Create new dataframe for saving in excel\n",
    "    newdata = data.drop(data.index[[9, 11, 12, 13, 14, 15]])\n",
    "    newdata['Значение'] = newdata.Значение.astype(str)\n",
    "\n",
    "except BaseException  as e:\n",
    "    beep(4)\n",
    "    easygui.msgbox('Failed to create file \"Contract data\": \\n' + str(e), title='Error!')\n",
    "    logger.error(str(e))\n",
    "    sys.exit()"
   ]
  },
  {
   "cell_type": "markdown",
   "metadata": {},
   "source": [
    "## Save created files"
   ]
  },
  {
   "cell_type": "code",
   "execution_count": null,
   "metadata": {},
   "outputs": [],
   "source": [
    "# Create new folder for saving contract and it's data\n",
    " # Get contract number\n",
    "cnr = data['Значение'][1].replace('/', '_')\n",
    " # Get client name\n",
    "cname = ''.join(data['Значение'][10].split()[:2])\n",
    " # Get apartment number\n",
    "apnr = re.findall(r'\\d+', data['Значение'][7])[-1]\n",
    "apnr\n",
    " # Get folder's name\n",
    "fname = cnr+'_кв'+apnr+'_'+cname"
   ]
  },
  {
   "cell_type": "code",
   "execution_count": null,
   "metadata": {},
   "outputs": [],
   "source": [
    "# Check if the same folder already exists\n",
    " # Create choises\n",
    "ch1 = 'Yes'\n",
    "ch2 = 'No, try again'\n",
    "ch3 = 'No, stop program execution'\n",
    "ch = ch2 \n",
    " # Check for choise     \n",
    "while ch == ch2:\n",
    "    if os.path.isdir(os.getcwd() + '/{}'.format(fname)):\n",
    "        beep(4)\n",
    "        q = easygui.buttonbox('A folder with the same name already exists, do you want to replace it?', 'Attention!!!', (ch1, ch2, ch3))\n",
    "        if q == ch1:\n",
    "            ch = ch1\n",
    "            shutil.rmtree(os.getcwd() + '/{}'.format(fname))\n",
    "        elif q == ch3:\n",
    "            ch = ch3\n",
    "            sys.exit()\n",
    "    else:\n",
    "        ch = 0"
   ]
  },
  {
   "cell_type": "code",
   "execution_count": null,
   "metadata": {},
   "outputs": [],
   "source": [
    "# Create the folder\n",
    "os.mkdir(os.getcwd() + '/{}'.format(fname))"
   ]
  },
  {
   "cell_type": "code",
   "execution_count": null,
   "metadata": {},
   "outputs": [],
   "source": [
    "try:\n",
    "    # Save newdata to excel file\n",
    "     # Get file's name\n",
    "    xname = f\"Contract_data_{data['Значение'][1].replace('/', '_')}\"\n",
    "     # Save it\n",
    "    writer = pd.ExcelWriter(os.getcwd() + '/{}/{}.xlsx'.format(fname, xname), engine='xlsxwriter')\n",
    "    newdata.to_excel(writer, sheet_name='ContractData', index=False)\n",
    "\n",
    "    def format_col_width(ws):\n",
    "        ws.set_column('A:A', 35)\n",
    "        ws.set_column('B:B', 120)\n",
    "\n",
    "    workbook  = writer.book\n",
    "    worksheet = writer.sheets['ContractData']\n",
    "    format_col_width(worksheet)\n",
    "\n",
    "    writer.close()\n",
    "\n",
    "except BaseException  as e:\n",
    "    beep(4)\n",
    "    easygui.msgbox('Failed to save file \"Contract data\": \\n' + str(e), title='Error!')\n",
    "    logger.error(str(e))\n",
    "    sys.exit()"
   ]
  },
  {
   "cell_type": "code",
   "execution_count": null,
   "metadata": {},
   "outputs": [],
   "source": [
    "try:\n",
    "    # Save contract to word file\n",
    "     # Get file's name\n",
    "    wname = f\"Contract_{cnr}\"    \n",
    "    c.save(os.getcwd() + '/{}/{}.docx'.format(fname, wname))\n",
    "    \n",
    "except BaseException  as e:\n",
    "    beep(4)\n",
    "    easygui.msgbox('Failed to save file \"Contract\": \\n' + str(e), title='Error!')\n",
    "    logger.error(str(e))\n",
    "    sys.exit()"
   ]
  },
  {
   "cell_type": "code",
   "execution_count": null,
   "metadata": {},
   "outputs": [],
   "source": [
    "# Add sound\n",
    "if data['Значение'][8] > 0:\n",
    "    beep(data['Значение'][8])"
   ]
  },
  {
   "cell_type": "code",
   "execution_count": null,
   "metadata": {},
   "outputs": [],
   "source": [
    "print(wname + ' has been drawn up!')\n",
    "time.sleep(3)"
   ]
  }
 ],
 "metadata": {
  "kernelspec": {
   "display_name": "Python 3",
   "language": "python",
   "name": "python3"
  },
  "language_info": {
   "codemirror_mode": {
    "name": "ipython",
    "version": 3
   },
   "file_extension": ".py",
   "mimetype": "text/x-python",
   "name": "python",
   "nbconvert_exporter": "python",
   "pygments_lexer": "ipython3",
   "version": "3.7.7"
  }
 },
 "nbformat": 4,
 "nbformat_minor": 4
}
